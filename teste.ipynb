{
 "cells": [
  {
   "cell_type": "code",
   "execution_count": 1,
   "metadata": {},
   "outputs": [
    {
     "name": "stderr",
     "output_type": "stream",
     "text": [
      "C:\\Users\\Victor Broering\\AppData\\Local\\Temp\\ipykernel_19160\\1187861188.py:11: LangChainDeprecationWarning: The method `BaseLLM.__call__` was deprecated in langchain-core 0.1.7 and will be removed in 1.0. Use :meth:`~invoke` instead.\n",
      "  response = model(prompt)\n"
     ]
    },
    {
     "name": "stdout",
     "output_type": "stream",
     "text": [
      "Resposta do modelo: The capital of France is Paris.\n"
     ]
    }
   ],
   "source": [
    "from langchain_ollama import OllamaLLM\n",
    "\n",
    "# Inicializar o modelo Ollama usando o modelo llama3.2:latest\n",
    "model = OllamaLLM(model=\"llama3.2:latest\")\n",
    "\n",
    "# Definir o prompt para enviar ao modelo\n",
    "prompt = \"What is the capital of France?\"\n",
    "\n",
    "# Enviar o prompt ao modelo e obter a resposta\n",
    "try:\n",
    "    response = model(prompt)\n",
    "    print(\"Resposta do modelo:\", response)\n",
    "except Exception as e:\n",
    "    print(\"Erro ao processar a solicitação:\", str(e))\n"
   ]
  }
 ],
 "metadata": {
  "kernelspec": {
   "display_name": ".venv",
   "language": "python",
   "name": "python3"
  },
  "language_info": {
   "codemirror_mode": {
    "name": "ipython",
    "version": 3
   },
   "file_extension": ".py",
   "mimetype": "text/x-python",
   "name": "python",
   "nbconvert_exporter": "python",
   "pygments_lexer": "ipython3",
   "version": "3.12.6"
  }
 },
 "nbformat": 4,
 "nbformat_minor": 2
}
